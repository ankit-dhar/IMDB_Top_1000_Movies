{
 "cells": [
  {
   "cell_type": "code",
   "execution_count": 1,
   "id": "9230534b",
   "metadata": {},
   "outputs": [],
   "source": [
    "import pandas as pd\n",
    "import numpy as np\n",
    "import seaborn as sns\n",
    "import requests\n",
    "from bs4 import BeautifulSoup\n",
    "from time import sleep\n",
    "from random import randint"
   ]
  },
  {
   "cell_type": "code",
   "execution_count": 2,
   "id": "a8b9d7a3",
   "metadata": {},
   "outputs": [],
   "source": [
    "headers={\"Accept-language\": \"en-US,en;q=0.5\"}"
   ]
  },
  {
   "cell_type": "code",
   "execution_count": 3,
   "id": "5f727076",
   "metadata": {},
   "outputs": [],
   "source": [
    "rank=[]\n",
    "name=[]\n",
    "year=[]\n",
    "time=[]\n",
    "rating=[]\n",
    "metascore=[]\n",
    "votes=[]\n",
    "gross=[]"
   ]
  },
  {
   "cell_type": "code",
   "execution_count": 4,
   "id": "4238c44c",
   "metadata": {},
   "outputs": [],
   "source": [
    "pages=np.arange(1,1000,100)"
   ]
  },
  {
   "cell_type": "code",
   "execution_count": 5,
   "id": "11e9f557",
   "metadata": {},
   "outputs": [],
   "source": [
    "for page in pages:\n",
    "    page=requests.get(\"https://www.imdb.com/search/title/?groups=top_1000&sort=user_rating,desc&count=100&start=\"+str(page)+\"&ref_=adv_nxt\")\n",
    "    soup=BeautifulSoup(page.text,'html.parser')\n",
    "    movie_data=soup.findAll('div',attrs={'class':\"lister-item mode-advanced\"})\n",
    "    sleep(randint(2,8))\n",
    "    \n",
    "    for store in movie_data:\n",
    "        rankk=store.h3.span.text\n",
    "        rank.append(rankk)\n",
    "        \n",
    "        mname=store.h3.a.text\n",
    "        name.append(mname)\n",
    "        \n",
    "        year_of_release=store.h3.find('span',class_=\"lister-item-year text-muted unbold\").text.strip('()')\n",
    "        year.append(year_of_release)\n",
    "        \n",
    "        mtime=store.p.find('span',class_=\"runtime\").text\n",
    "        time.append(mtime)\n",
    "        \n",
    "        mrating=store.find('div',class_=\"inline-block ratings-imdb-rating\").text.replace('\\n','')\n",
    "        rating.append(mrating)\n",
    "        \n",
    "        mmeta=store.find('span',class_=\"metascore\").text if store.find('span',class_=\"metascore\") else \"****\"\n",
    "        metascore.append(mmeta)\n",
    "        \n",
    "        value=store.find_all('span',attrs={'name':\"nv\"})\n",
    "        vote=value[0].text\n",
    "        votes.append(vote)\n",
    "        \n",
    "        mgross=value[1].text if len(value)>1 else \"%%%%\"\n",
    "        gross.append(mgross)\n",
    "        "
   ]
  },
  {
   "cell_type": "code",
   "execution_count": 6,
   "id": "98f5ca5c",
   "metadata": {},
   "outputs": [],
   "source": [
    "df=pd.DataFrame({\"Rank\":rank,\"Movie Name\": name, \"Year of Relaease\": year,\"Watch Time\":time,\"Rating\":rating,\"Metascore\":metascore,\"Votes\":votes,\"Gross Collection\":gross})"
   ]
  },
  {
   "cell_type": "code",
   "execution_count": 7,
   "id": "1cb22fb7",
   "metadata": {},
   "outputs": [
    {
     "data": {
      "text/html": [
       "<div>\n",
       "<style scoped>\n",
       "    .dataframe tbody tr th:only-of-type {\n",
       "        vertical-align: middle;\n",
       "    }\n",
       "\n",
       "    .dataframe tbody tr th {\n",
       "        vertical-align: top;\n",
       "    }\n",
       "\n",
       "    .dataframe thead th {\n",
       "        text-align: right;\n",
       "    }\n",
       "</style>\n",
       "<table border=\"1\" class=\"dataframe\">\n",
       "  <thead>\n",
       "    <tr style=\"text-align: right;\">\n",
       "      <th></th>\n",
       "      <th>Rank</th>\n",
       "      <th>Movie Name</th>\n",
       "      <th>Year of Relaease</th>\n",
       "      <th>Watch Time</th>\n",
       "      <th>Rating</th>\n",
       "      <th>Metascore</th>\n",
       "      <th>Votes</th>\n",
       "      <th>Gross Collection</th>\n",
       "    </tr>\n",
       "  </thead>\n",
       "  <tbody>\n",
       "    <tr>\n",
       "      <th>0</th>\n",
       "      <td>1.</td>\n",
       "      <td>The Shawshank Redemption</td>\n",
       "      <td>1994</td>\n",
       "      <td>142 min</td>\n",
       "      <td>9.3</td>\n",
       "      <td>81</td>\n",
       "      <td>2,699,185</td>\n",
       "      <td>$28.34M</td>\n",
       "    </tr>\n",
       "    <tr>\n",
       "      <th>1</th>\n",
       "      <td>2.</td>\n",
       "      <td>The Godfather</td>\n",
       "      <td>1972</td>\n",
       "      <td>175 min</td>\n",
       "      <td>9.2</td>\n",
       "      <td>100</td>\n",
       "      <td>1,873,380</td>\n",
       "      <td>$134.97M</td>\n",
       "    </tr>\n",
       "    <tr>\n",
       "      <th>2</th>\n",
       "      <td>3.</td>\n",
       "      <td>The Dark Knight</td>\n",
       "      <td>2008</td>\n",
       "      <td>152 min</td>\n",
       "      <td>9.0</td>\n",
       "      <td>84</td>\n",
       "      <td>2,672,907</td>\n",
       "      <td>$534.86M</td>\n",
       "    </tr>\n",
       "    <tr>\n",
       "      <th>3</th>\n",
       "      <td>4.</td>\n",
       "      <td>Schindler's List</td>\n",
       "      <td>1993</td>\n",
       "      <td>195 min</td>\n",
       "      <td>9.0</td>\n",
       "      <td>95</td>\n",
       "      <td>1,364,528</td>\n",
       "      <td>$96.90M</td>\n",
       "    </tr>\n",
       "    <tr>\n",
       "      <th>4</th>\n",
       "      <td>5.</td>\n",
       "      <td>The Godfather Part II</td>\n",
       "      <td>1974</td>\n",
       "      <td>202 min</td>\n",
       "      <td>9.0</td>\n",
       "      <td>90</td>\n",
       "      <td>1,280,242</td>\n",
       "      <td>$57.30M</td>\n",
       "    </tr>\n",
       "  </tbody>\n",
       "</table>\n",
       "</div>"
      ],
      "text/plain": [
       "  Rank                Movie Name Year of Relaease Watch Time Rating  \\\n",
       "0   1.  The Shawshank Redemption             1994    142 min    9.3   \n",
       "1   2.             The Godfather             1972    175 min    9.2   \n",
       "2   3.           The Dark Knight             2008    152 min    9.0   \n",
       "3   4.          Schindler's List             1993    195 min    9.0   \n",
       "4   5.     The Godfather Part II             1974    202 min    9.0   \n",
       "\n",
       "     Metascore      Votes Gross Collection  \n",
       "0   81          2,699,185          $28.34M  \n",
       "1  100          1,873,380         $134.97M  \n",
       "2   84          2,672,907         $534.86M  \n",
       "3   95          1,364,528          $96.90M  \n",
       "4   90          1,280,242          $57.30M  "
      ]
     },
     "execution_count": 7,
     "metadata": {},
     "output_type": "execute_result"
    }
   ],
   "source": [
    "df.head()"
   ]
  },
  {
   "cell_type": "code",
   "execution_count": 8,
   "id": "d8c3eadf",
   "metadata": {},
   "outputs": [
    {
     "name": "stdout",
     "output_type": "stream",
     "text": [
      "<class 'pandas.core.frame.DataFrame'>\n",
      "RangeIndex: 1000 entries, 0 to 999\n",
      "Data columns (total 8 columns):\n",
      " #   Column            Non-Null Count  Dtype \n",
      "---  ------            --------------  ----- \n",
      " 0   Rank              1000 non-null   object\n",
      " 1   Movie Name        1000 non-null   object\n",
      " 2   Year of Relaease  1000 non-null   object\n",
      " 3   Watch Time        1000 non-null   object\n",
      " 4   Rating            1000 non-null   object\n",
      " 5   Metascore         1000 non-null   object\n",
      " 6   Votes             1000 non-null   object\n",
      " 7   Gross Collection  1000 non-null   object\n",
      "dtypes: object(8)\n",
      "memory usage: 62.6+ KB\n"
     ]
    }
   ],
   "source": [
    "df.info()"
   ]
  },
  {
   "cell_type": "code",
   "execution_count": 10,
   "id": "abb01a70",
   "metadata": {},
   "outputs": [],
   "source": [
    "df.to_excel(\"IMDB_TOP_1000_M.xlsx\")"
   ]
  }
 ],
 "metadata": {
  "kernelspec": {
   "display_name": "Python 3 (ipykernel)",
   "language": "python",
   "name": "python3"
  },
  "language_info": {
   "codemirror_mode": {
    "name": "ipython",
    "version": 3
   },
   "file_extension": ".py",
   "mimetype": "text/x-python",
   "name": "python",
   "nbconvert_exporter": "python",
   "pygments_lexer": "ipython3",
   "version": "3.11.1"
  }
 },
 "nbformat": 4,
 "nbformat_minor": 5
}
